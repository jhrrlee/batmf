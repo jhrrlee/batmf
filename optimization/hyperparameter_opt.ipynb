{
 "cells": [
  {
   "cell_type": "code",
   "execution_count": null,
   "id": "I0J4u7vAU3Hu",
   "metadata": {
    "id": "I0J4u7vAU3Hu"
   },
   "outputs": [],
   "source": [
    "\"\"\"\n",
    "File Name: hyperparameter_opt.ipynb\n",
    "\n",
    "Description: DNN hyperparameter optimization\n",
    "\n",
    "Author: junghwan lee\n",
    "Email: jhrrlee@gmail.com\n",
    "Date Created: 2023.09.12\n",
    "Todo:\n",
    "1. Separation concerns between reshaping dataset and hyperparameter optimization\n",
    "2. Refactor for enhanced flexibility.\n",
    "3. Implement a function to resume training in case of kernel crash or stops\n",
    "\"\"\""
   ]
  },
  {
   "cell_type": "code",
   "execution_count": null,
   "id": "0a1432bf-25a5-4f85-b30a-8630b2f58a06",
   "metadata": {
    "id": "0a1432bf-25a5-4f85-b30a-8630b2f58a06"
   },
   "outputs": [],
   "source": [
    "import sys\n",
    "import numpy as np\n",
    "import matplotlib.pyplot as plt\n",
    "import tensorflow.keras as keras\n",
    "import os\n",
    "from sklearn.preprocessing import StandardScaler\n",
    "from sklearn.model_selection import train_test_split\n",
    "from sklearn.preprocessing import MinMaxScaler"
   ]
  },
  {
   "cell_type": "code",
   "execution_count": 6,
   "id": "9e90f034-0b48-44d4-b993-8011727e15b8",
   "metadata": {},
   "outputs": [],
   "source": [
    "sys.path.append('../dnn_models')"
   ]
  },
  {
   "cell_type": "code",
   "execution_count": 11,
   "id": "SBi254wvNOpk",
   "metadata": {
    "id": "SBi254wvNOpk"
   },
   "outputs": [],
   "source": [
    "gen_path = '../resource/dataset/'\n",
    "model_path = './models/Resnet/'\n",
    "history_path = './history/Resnet/'\n",
    "prediction_path = './prediction/Resnet/'\n",
    "log_path = './log/'"
   ]
  },
  {
   "cell_type": "code",
   "execution_count": null,
   "id": "rZLruySmda46",
   "metadata": {
    "colab": {
     "base_uri": "https://localhost:8080/"
    },
    "executionInfo": {
     "elapsed": 5517,
     "status": "ok",
     "timestamp": 1692325556773,
     "user": {
      "displayName": "rory lee",
      "userId": "07120846070559746515"
     },
     "user_tz": -480
    },
    "id": "rZLruySmda46",
    "outputId": "e084b440-626f-41be-ef67-2c686a4f61e5"
   },
   "outputs": [
    {
     "name": "stdout",
     "output_type": "stream",
     "text": [
      "Collecting optuna\n",
      "  Downloading optuna-3.3.0-py3-none-any.whl (404 kB)\n",
      "\u001b[2K     \u001b[90m━━━━━━━━━━━━━━━━━━━━━━━━━━━━━━━━━━━━━━━\u001b[0m \u001b[32m404.2/404.2 kB\u001b[0m \u001b[31m5.0 MB/s\u001b[0m eta \u001b[36m0:00:00\u001b[0m\n",
      "\u001b[?25hCollecting alembic>=1.5.0 (from optuna)\n",
      "  Downloading alembic-1.11.3-py3-none-any.whl (225 kB)\n",
      "\u001b[2K     \u001b[90m━━━━━━━━━━━━━━━━━━━━━━━━━━━━━━━━━━━━━━\u001b[0m \u001b[32m225.4/225.4 kB\u001b[0m \u001b[31m11.0 MB/s\u001b[0m eta \u001b[36m0:00:00\u001b[0m\n",
      "\u001b[?25hCollecting cmaes>=0.10.0 (from optuna)\n",
      "  Downloading cmaes-0.10.0-py3-none-any.whl (29 kB)\n",
      "Collecting colorlog (from optuna)\n",
      "  Downloading colorlog-6.7.0-py2.py3-none-any.whl (11 kB)\n",
      "Requirement already satisfied: numpy in /usr/local/lib/python3.10/dist-packages (from optuna) (1.23.5)\n",
      "Requirement already satisfied: packaging>=20.0 in /usr/local/lib/python3.10/dist-packages (from optuna) (23.1)\n",
      "Requirement already satisfied: sqlalchemy>=1.3.0 in /usr/local/lib/python3.10/dist-packages (from optuna) (2.0.20)\n",
      "Requirement already satisfied: tqdm in /usr/local/lib/python3.10/dist-packages (from optuna) (4.66.1)\n",
      "Requirement already satisfied: PyYAML in /usr/local/lib/python3.10/dist-packages (from optuna) (6.0.1)\n",
      "Collecting Mako (from alembic>=1.5.0->optuna)\n",
      "  Downloading Mako-1.2.4-py3-none-any.whl (78 kB)\n",
      "\u001b[2K     \u001b[90m━━━━━━━━━━━━━━━━━━━━━━━━━━━━━━━━━━━━━━━━\u001b[0m \u001b[32m78.7/78.7 kB\u001b[0m \u001b[31m6.6 MB/s\u001b[0m eta \u001b[36m0:00:00\u001b[0m\n",
      "\u001b[?25hRequirement already satisfied: typing-extensions>=4 in /usr/local/lib/python3.10/dist-packages (from alembic>=1.5.0->optuna) (4.7.1)\n",
      "Requirement already satisfied: greenlet!=0.4.17 in /usr/local/lib/python3.10/dist-packages (from sqlalchemy>=1.3.0->optuna) (2.0.2)\n",
      "Requirement already satisfied: MarkupSafe>=0.9.2 in /usr/local/lib/python3.10/dist-packages (from Mako->alembic>=1.5.0->optuna) (2.1.3)\n",
      "Installing collected packages: Mako, colorlog, cmaes, alembic, optuna\n",
      "Successfully installed Mako-1.2.4 alembic-1.11.3 cmaes-0.10.0 colorlog-6.7.0 optuna-3.3.0\n"
     ]
    }
   ],
   "source": [
    "!pip install optuna"
   ]
  },
  {
   "cell_type": "code",
   "execution_count": null,
   "id": "c9zexNx5nvtu",
   "metadata": {
    "colab": {
     "base_uri": "https://localhost:8080/"
    },
    "executionInfo": {
     "elapsed": 5047,
     "status": "ok",
     "timestamp": 1692328207395,
     "user": {
      "displayName": "rory lee",
      "userId": "07120846070559746515"
     },
     "user_tz": -480
    },
    "id": "c9zexNx5nvtu",
    "outputId": "8eb565ca-d54f-4015-e2db-efd5d0ab6d1a"
   },
   "outputs": [
    {
     "name": "stdout",
     "output_type": "stream",
     "text": [
      "Collecting XlsxWriter\n",
      "  Downloading XlsxWriter-3.1.2-py3-none-any.whl (153 kB)\n",
      "\u001b[2K     \u001b[90m━━━━━━━━━━━━━━━━━━━━━━━━━━━━━━━━━━━━━━━\u001b[0m \u001b[32m153.0/153.0 kB\u001b[0m \u001b[31m3.4 MB/s\u001b[0m eta \u001b[36m0:00:00\u001b[0ma \u001b[36m0:00:01\u001b[0m\n",
      "\u001b[?25hInstalling collected packages: XlsxWriter\n",
      "Successfully installed XlsxWriter-3.1.2\n"
     ]
    }
   ],
   "source": [
    "!pip install XlsxWriter"
   ]
  },
  {
   "cell_type": "code",
   "execution_count": null,
   "id": "KQ19zY_bMDQx",
   "metadata": {
    "id": "KQ19zY_bMDQx"
   },
   "outputs": [],
   "source": [
    "import numpy as np\n",
    "import matplotlib.pyplot as plt\n",
    "import pickle\n",
    "from scipy import interpolate\n",
    "import tensorflow as tf\n",
    "from tensorflow.keras.models import Model\n",
    "from tensorflow.keras.layers import Dense, Conv1D, Add, Activation, Flatten, Input, BatchNormalization\n",
    "from sklearn.model_selection import train_test_split\n",
    "from tensorflow.keras.models import Sequential\n",
    "from tensorflow.keras.layers import Dense, SimpleRNN, Conv1D, Flatten, Input, BatchNormalization, Activation, Add\n",
    "from tensorflow.keras.layers import Conv1D, Dense, Flatten, Input, Dropout, MaxPooling1D, BatchNormalization\n",
    "from tensorflow.keras import Model\n",
    "from tensorflow.keras.layers import LSTM\n",
    "from tensorflow.keras.layers import Bidirectional\n",
    "from tensorflow.keras.layers import GRU\n",
    "from keras import optimizers\n",
    "from tensorflow.keras.optimizers import Adam\n",
    "from keras.callbacks import EarlyStopping, ReduceLROnPlateau\n",
    "from tensorflow.keras.losses import mean_squared_error\n",
    "from tensorflow.keras import backend as K\n",
    "from tensorflow.keras.layers import GlobalAveragePooling1D\n",
    "import pickle\n",
    "from tqdm import tqdm\n",
    "import importlib\n",
    "from tensorflow.keras.models import Model\n",
    "import lib_analysis as ca\n",
    "import optuna\n",
    "from keras.callbacks import ModelCheckpoint, EarlyStopping\n",
    "from tensorflow.keras.models import load_model\n",
    "from sklearn.metrics import mean_absolute_error, mean_squared_error\n",
    "import pandas as pd\n",
    "from tensorflow.keras import backend as K\n",
    "import time\n",
    "import math\n",
    "import xlsxwriter\n"
   ]
  },
  {
   "cell_type": "code",
   "execution_count": null,
   "id": "7AUvXRUnr2Az",
   "metadata": {
    "id": "7AUvXRUnr2Az"
   },
   "outputs": [],
   "source": [
    "import lib_analysis as ca"
   ]
  },
  {
   "cell_type": "code",
   "execution_count": null,
   "id": "xzmmDEn1xOwF",
   "metadata": {
    "id": "xzmmDEn1xOwF"
   },
   "outputs": [],
   "source": [
    "from resnet_lib import v2_gen_resnet_model"
   ]
  },
  {
   "cell_type": "code",
   "execution_count": null,
   "id": "bDZJHwierImR",
   "metadata": {
    "colab": {
     "base_uri": "https://localhost:8080/"
    },
    "executionInfo": {
     "elapsed": 540,
     "status": "ok",
     "timestamp": 1692345894743,
     "user": {
      "displayName": "rory lee",
      "userId": "07120846070559746515"
     },
     "user_tz": -480
    },
    "id": "bDZJHwierImR",
    "outputId": "0be55bde-c72a-4595-916c-5ca2d9d00c80"
   },
   "outputs": [
    {
     "data": {
      "text/plain": [
       "<module 'resnet_lib' from '/content/drive/MyDrive/Colab_Notebooks/toyota_data/from pc/resnet_lib.py'>"
      ]
     },
     "execution_count": 83,
     "metadata": {},
     "output_type": "execute_result"
    }
   ],
   "source": [
    "importlib.reload(resnet_lib)"
   ]
  },
  {
   "cell_type": "code",
   "execution_count": null,
   "id": "8539f034-cb24-4132-9c82-fc6cf8242781",
   "metadata": {
    "id": "8539f034-cb24-4132-9c82-fc6cf8242781",
    "outputId": "215b914c-6822-40ec-8c8b-fdf62e8d460a"
   },
   "outputs": [
    {
     "name": "stdout",
     "output_type": "stream",
     "text": [
      "1 Physical GPUs, 1 Logical GPUs\n"
     ]
    }
   ],
   "source": [
    "gpus = tf.config.experimental.list_physical_devices('GPU')\n",
    "if gpus:\n",
    "    try:\n",
    "        # Currently, memory growth needs to be the same across GPUs\n",
    "        for gpu in gpus:\n",
    "            tf.config.experimental.set_memory_growth(gpu, True)\n",
    "        logical_gpus = tf.config.experimental.list_logical_devices('GPU')\n",
    "        print(len(gpus), \"Physical GPUs,\", len(logical_gpus), \"Logical GPUs\")\n",
    "    except RuntimeError as e:\n",
    "        # Memory growth must be set before GPUs have been initialized\n",
    "        print(e)"
   ]
  },
  {
   "cell_type": "code",
   "execution_count": null,
   "id": "025dea42-7a6d-417d-b266-f7ce0c067394",
   "metadata": {
    "id": "025dea42-7a6d-417d-b266-f7ce0c067394",
    "outputId": "93e66a96-3255-496f-ca8c-70de2c1703c7"
   },
   "outputs": [
    {
     "name": "stdout",
     "output_type": "stream",
     "text": [
      "Num GPUs Available:  1\n",
      "Num Logical GPUs Available:  1\n"
     ]
    }
   ],
   "source": [
    "physical_devices = tf.config.list_physical_devices('GPU')\n",
    "print(\"Num GPUs Available: \", len(physical_devices))\n",
    "logical_devices = tf.config.list_logical_devices('GPU')\n",
    "print(\"Num Logical GPUs Available: \", len(logical_devices))"
   ]
  },
  {
   "cell_type": "code",
   "execution_count": null,
   "id": "4493ad69-6b2f-406a-8345-6e614391511d",
   "metadata": {
    "id": "4493ad69-6b2f-406a-8345-6e614391511d"
   },
   "outputs": [],
   "source": [
    "def get_cyclesum_data_x(start_cycle, num_cycles, X):\n",
    "  # Select only the data for the specified range of cycles\n",
    "  X_selected = X[:, :, start_cycle:start_cycle+num_cycles]\n",
    "  # Print shapes of the returned arrays\n",
    "  print(f\"Shape of X: {X_selected.shape}\")\n",
    "\n",
    "  return X_selected"
   ]
  },
  {
   "cell_type": "code",
   "execution_count": null,
   "id": "06c1df6a-5521-451b-9f9c-dc9cd58b4844",
   "metadata": {
    "id": "06c1df6a-5521-451b-9f9c-dc9cd58b4844"
   },
   "outputs": [],
   "source": [
    "def get_RUL(eol, num_cycles):\n",
    "  return eol - num_cycles"
   ]
  },
  {
   "cell_type": "code",
   "execution_count": null,
   "id": "lzr5e2h7b5xP",
   "metadata": {
    "id": "lzr5e2h7b5xP"
   },
   "outputs": [],
   "source": [
    "import tensorflow as tf\n",
    "def root_mean_squared_error(y_true, y_pred):\n",
    "    return tf.sqrt(tf.reduce_mean(tf.square(y_pred - y_true)))"
   ]
  },
  {
   "cell_type": "code",
   "execution_count": null,
   "id": "ioZu6_IFb6WX",
   "metadata": {
    "id": "ioZu6_IFb6WX"
   },
   "outputs": [],
   "source": [
    "def mean_absolute_percentage_error(y_true, y_pred):\n",
    "    epsilon = 1e-10  # some small constant\n",
    "    return tf.reduce_mean(tf.abs((y_true - y_pred) / (y_true + epsilon))) * 100"
   ]
  },
  {
   "cell_type": "code",
   "execution_count": null,
   "id": "553c8b9a-8d66-43e6-8972-9e260451a8f2",
   "metadata": {
    "colab": {
     "base_uri": "https://localhost:8080/"
    },
    "executionInfo": {
     "elapsed": 3174,
     "status": "ok",
     "timestamp": 1692345592302,
     "user": {
      "displayName": "rory lee",
      "userId": "07120846070559746515"
     },
     "user_tz": -480
    },
    "id": "553c8b9a-8d66-43e6-8972-9e260451a8f2",
    "outputId": "5671850f-90bd-488e-df05-5c4a8cce6472"
   },
   "outputs": [],
   "source": [
    "# Load the original data\n",
    "eol = np.load(gen_path + 'eol.npy')\n",
    "cycle_data_dis = np.load(gen_path + 'cycle_data_dis.npy')\n",
    "indices_train = np.load(gen_path + 'train_indices.npy')\n",
    "indices_val = np.load(gen_path + 'val_indices.npy')\n",
    "indices_test = np.load(gen_path + 'test_indices.npy')\n",
    "new_cycle_sum = np.load(gen_path + 'new_cycle_sum.npy')\n",
    "\n",
    "num_cells = eol.shape[0]\n",
    "num_cycles = cycle_data_dis.shape[1]\n",
    "cycle_count = np.arange(1, num_cycles+1)\n",
    "RUL = eol - num_cycles\n",
    "\n",
    "print(\"RUL shape:\", RUL.shape)\n",
    "print(\"cycle_data_dis shape:\", cycle_data_dis.shape)\n",
    "print(\"new_cycle_sum shape:\", new_cycle_sum.shape)"
   ]
  },
  {
   "cell_type": "code",
   "execution_count": null,
   "id": "250b1e8b-80a7-474a-b087-1f6b993b8258",
   "metadata": {
    "id": "250b1e8b-80a7-474a-b087-1f6b993b8258"
   },
   "outputs": [],
   "source": [
    "indices_train = [0, 3, 4, 6, 9, 12, 15, 16, 19, 22, 28, 29, 32, 37, 39, 41, 44, 46, 48, 52, 55, 58, 61, 63, 66, 69, 73, 76, 79, 82, 85, 87, 89, 99, 102, 106, 109, 114, 117, 120, 123]\n",
    "indices_val = [1, 5, 7, 8, 11, 13, 17, 20, 23, 25, 30, 33, 35, 38, 40, 45, 49, 50, 53, 56, 59, 64, 67, 70, 71, 74, 77, 80, 86, 90, 92, 94, 95, 98, 100, 104, 107, 110, 111, 113, 115, 118, 121]\n",
    "indices_test = [2, 10, 14, 18, 21, 24, 26, 27, 31, 34, 36, 42, 43, 47, 51, 54, 57, 60, 62, 65, 68, 72, 75, 78, 81, 83, 84, 88, 91, 93, 96, 97, 101, 103, 105, 108, 112, 116, 119, 122]"
   ]
  },
  {
   "cell_type": "code",
   "execution_count": null,
   "id": "a34c5465-44f4-4f57-8365-33b1f52c2ec3",
   "metadata": {
    "id": "a34c5465-44f4-4f57-8365-33b1f52c2ec3"
   },
   "outputs": [],
   "source": [
    "def rul_sumdata_preparation_with_fixed_indice(cycle_data, rul, indices_train, indices_val, indices_test):\n",
    "\n",
    "  X = cycle_data.transpose(0,2,1)\n",
    "  #X = cycle_data\n",
    "  y = rul\n",
    "\n",
    "  num_samples, num_cycles, num_features = X.shape\n",
    "  # The length of each sequence is cycles * time_series\n",
    "  sequence_length = num_cycles\n",
    "  X_reshaped = X.reshape(num_samples, sequence_length, num_features)\n",
    "  y_reshaped = y.reshape(-1, 1)\n",
    "\n",
    "  print(\"X X_reshaped:\", X.shape, X_reshaped.shape)\n",
    "  print(\"y y_reshaped:\", y.shape, y_reshaped.shape)\n",
    "  print(\"num_features\", num_features)\n",
    "  # normalization\n",
    "  y_scaler = MinMaxScaler()\n",
    "  #scalers = [5]\n",
    "  X_reshaped_norm = np.zeros_like(X_reshaped)\n",
    "  for i in range(num_features):\n",
    "    scalers= MinMaxScaler()\n",
    "    X_reshaped_norm[:, :, i] = scalers.fit_transform(X_reshaped[:, :, i].reshape(-1, 1)).reshape(num_samples, sequence_length)\n",
    "\n",
    "  y_scaler = MinMaxScaler()\n",
    "  print(\"X_reshaped_norm\", X_reshaped_norm.shape)\n",
    "  #y_reshaped_norm = y_scaler.fit_transform(y_reshaped)\n",
    "  y_reshaped_norm = y_reshaped\n",
    "\n",
    "\n",
    "  # Split the data based on train, validatioin, test indices\n",
    "  print(\"Indices of training set:\", indices_train)\n",
    "  print(\"Indices of validation set:\", indices_val)\n",
    "  print(\"Indices of test set:\", indices_test)\n",
    "  X_train, X_val, X_test = X_reshaped[indices_train], X_reshaped[indices_val], X_reshaped[indices_test]\n",
    "  X_norm_train, X_norm_val, X_norm_test = X_reshaped_norm[indices_train], X_reshaped_norm[indices_val], X_reshaped_norm[indices_test]\n",
    "  y_train, y_val, y_test  = y_reshaped[indices_train], y_reshaped[indices_val], y_reshaped[indices_test]\n",
    "  y_norm_train, y_norm_val, y_norm_test = y_reshaped_norm[indices_train], y_reshaped_norm[indices_val], y_reshaped_norm[indices_test]\n",
    "  print(\"X_train X_val X_test:\", X_train.shape, X_val.shape, X_test.shape)\n",
    "  print(\"X_norm_train X_norm_val X_norm_test:\", X_norm_train.shape, X_norm_val.shape, X_norm_test.shape)\n",
    "  print(\"y_train y_val y_test:\", y_train.shape, y_val.shape, y_test.shape)\n",
    "  print(\"y_norm_train y_norm_val y_norm_test:\", y_norm_train.shape, y_norm_val.shape, y_norm_test.shape)\n",
    "\n",
    "  return X_train, X_val, X_test, X_norm_train, X_norm_val, X_norm_test, y_train, y_val, y_test, y_norm_train, y_norm_val, y_norm_test"
   ]
  },
  {
   "cell_type": "code",
   "execution_count": null,
   "id": "8aefe3bd-e12f-4a0d-9a7d-a5b1e7b6d361",
   "metadata": {
    "colab": {
     "base_uri": "https://localhost:8080/"
    },
    "executionInfo": {
     "elapsed": 4,
     "status": "ok",
     "timestamp": 1692345599648,
     "user": {
      "displayName": "rory lee",
      "userId": "07120846070559746515"
     },
     "user_tz": -480
    },
    "id": "8aefe3bd-e12f-4a0d-9a7d-a5b1e7b6d361",
    "outputId": "4c92173a-cbf9-4ce7-a0b1-8f76b61c329d"
   },
   "outputs": [
    {
     "name": "stdout",
     "output_type": "stream",
     "text": [
      "Shape of X: (124, 14, 40)\n"
     ]
    }
   ],
   "source": [
    "cycle_data_selected = get_cyclesum_data_x(40, 40, new_cycle_sum)\n",
    "RUL_selected = get_RUL(eol, 80)"
   ]
  },
  {
   "cell_type": "code",
   "execution_count": null,
   "id": "6b7e6ad4-7463-4303-9a5e-49898f13cd98",
   "metadata": {
    "id": "6b7e6ad4-7463-4303-9a5e-49898f13cd98",
    "outputId": "6768e8f8-47f8-4474-b60f-22e1b3a0cc31"
   },
   "outputs": [
    {
     "name": "stdout",
     "output_type": "stream",
     "text": [
      "Shape of X: (124, 14, 10)\n"
     ]
    }
   ],
   "source": [
    "cycle_data_selected = get_cyclesum_data_x(1, 10, new_cycle_sum)\n",
    "RUL_selected = get_RUL(eol, 10)"
   ]
  },
  {
   "cell_type": "code",
   "execution_count": null,
   "id": "bbcf5b2a-3b7a-4063-9e21-ee883cab0bfd",
   "metadata": {
    "id": "bbcf5b2a-3b7a-4063-9e21-ee883cab0bfd",
    "outputId": "2a915e0a-33d3-4a5f-b007-4903bbdbb546"
   },
   "outputs": [
    {
     "name": "stdout",
     "output_type": "stream",
     "text": [
      "Shape of X: (124, 14, 60)\n"
     ]
    }
   ],
   "source": [
    "cycle_data_selected = get_cyclesum_data_x(40, 100, new_cycle_sum)\n",
    "RUL_selected = get_RUL(eol, 100)"
   ]
  },
  {
   "cell_type": "code",
   "execution_count": null,
   "id": "e5da024a-6cc7-4e75-8875-6df5d44fb680",
   "metadata": {
    "id": "e5da024a-6cc7-4e75-8875-6df5d44fb680",
    "outputId": "b52051e3-6e55-4886-86ca-bec3f806b021"
   },
   "outputs": [
    {
     "name": "stdout",
     "output_type": "stream",
     "text": [
      "Shape of X: (124, 14, 10)\n"
     ]
    }
   ],
   "source": [
    "cycle_data_selected = get_cyclesum_data_x(1, 10, new_cycle_sum)\n",
    "RUL_selected = get_RUL(eol, 10)"
   ]
  },
  {
   "cell_type": "code",
   "execution_count": null,
   "id": "9ccc0f7e-82e3-4646-9fac-000cda0b9248",
   "metadata": {
    "id": "9ccc0f7e-82e3-4646-9fac-000cda0b9248",
    "outputId": "887bdc2d-26a9-4f33-fad6-2285b191746a"
   },
   "outputs": [
    {
     "name": "stdout",
     "output_type": "stream",
     "text": [
      "Shape of X: (124, 14, 10)\n"
     ]
    }
   ],
   "source": [
    "cycle_data_selected = get_cyclesum_data_x(11, 10, new_cycle_sum)\n",
    "RUL_selected = get_RUL(eol, 10)"
   ]
  },
  {
   "cell_type": "code",
   "execution_count": null,
   "id": "9f95f7fd-b7d5-447e-bf7b-33db76448454",
   "metadata": {
    "colab": {
     "base_uri": "https://localhost:8080/"
    },
    "executionInfo": {
     "elapsed": 7,
     "status": "ok",
     "timestamp": 1692345604358,
     "user": {
      "displayName": "rory lee",
      "userId": "07120846070559746515"
     },
     "user_tz": -480
    },
    "id": "9f95f7fd-b7d5-447e-bf7b-33db76448454",
    "outputId": "bfa7d7cf-5c5a-4ea2-9a80-bce9b0b5ecb0"
   },
   "outputs": [
    {
     "name": "stdout",
     "output_type": "stream",
     "text": [
      "X X_reshaped: (124, 40, 14) (124, 40, 14)\n",
      "y y_reshaped: (124, 1) (124, 1)\n",
      "num_features 14\n",
      "X_reshaped_norm (124, 40, 14)\n",
      "Indices of training set: [0, 3, 4, 6, 9, 12, 15, 16, 19, 22, 28, 29, 32, 37, 39, 41, 44, 46, 48, 52, 55, 58, 61, 63, 66, 69, 73, 76, 79, 82, 85, 87, 89, 99, 102, 106, 109, 114, 117, 120, 123]\n",
      "Indices of validation set: [1, 5, 7, 8, 11, 13, 17, 20, 23, 25, 30, 33, 35, 38, 40, 45, 49, 50, 53, 56, 59, 64, 67, 70, 71, 74, 77, 80, 86, 90, 92, 94, 95, 98, 100, 104, 107, 110, 111, 113, 115, 118, 121]\n",
      "Indices of test set: [2, 10, 14, 18, 21, 24, 26, 27, 31, 34, 36, 42, 43, 47, 51, 54, 57, 60, 62, 65, 68, 72, 75, 78, 81, 83, 84, 88, 91, 93, 96, 97, 101, 103, 105, 108, 112, 116, 119, 122]\n",
      "X_train X_val X_test: (41, 40, 14) (43, 40, 14) (40, 40, 14)\n",
      "X_norm_train X_norm_val X_norm_test: (41, 40, 14) (43, 40, 14) (40, 40, 14)\n",
      "y_train y_val y_test: (41, 1) (43, 1) (40, 1)\n",
      "y_norm_train y_norm_val y_norm_test: (41, 1) (43, 1) (40, 1)\n"
     ]
    }
   ],
   "source": [
    "X_train, X_val, X_test, X_train_norm, X_val_norm, X_test_norm, y_train, y_val, y_test, y_train_norm, y_val_norm, y_test_norm \\\n",
    "= rul_sumdata_preparation_with_fixed_indice(cycle_data_selected, RUL_selected, indices_train, indices_val, indices_test)"
   ]
  },
  {
   "cell_type": "markdown",
   "id": "9Vt_QX0metKO",
   "metadata": {
    "id": "9Vt_QX0metKO"
   },
   "source": [
    "## fixed parts regardless of architecture"
   ]
  },
  {
   "cell_type": "code",
   "execution_count": null,
   "id": "tRu_gNP9WH8f",
   "metadata": {
    "id": "tRu_gNP9WH8f"
   },
   "outputs": [],
   "source": [
    "def train_and_evaluate_model(model, no_epoch, X_train_norm, y_train_norm, X_val_norm, y_val_norm, X_test_norm, y_test_norm, batch_size, custom_objects, model_path, history_path, prediction_path, trial, test_name):\n",
    "  start_time_train = time.time()\n",
    "  try:\n",
    "      history = model.fit(\n",
    "          X_train_norm, y_train_norm,\n",
    "          validation_data=(X_val_norm, y_val_norm),\n",
    "          epochs=no_epoch,\n",
    "          batch_size=int(batch_size),\n",
    "          callbacks=[EarlyStopping(monitor='val_loss', mode='min', verbose=0, patience=2000),\n",
    "                      ModelCheckpoint(model_path + f'{test_name}_{trial.number}.h5', monitor='val_loss', save_best_only=True)],\n",
    "          verbose=0\n",
    "      )\n",
    "  except ValueError:\n",
    "      return float('inf')\n",
    "\n",
    "  training_time = time.time() - start_time_train\n",
    "  model.save(model_path + f'final_{test_name}.h5')\n",
    "\n",
    "  if os.path.exists(model_path + f'{test_name}_{trial.number}.h5'):\n",
    "      model = load_model(model_path + f'{test_name}_{trial.number}.h5', custom_objects=custom_objects)\n",
    "  else:\n",
    "      return float('inf')\n",
    "\n",
    "  start_time = time.time()\n",
    "  y_train_pred = model.predict(X_train_norm)\n",
    "  prediction_time = (time.time() - start_time) * 1000\n",
    "  y_train = y_train_norm\n",
    "  y_train_pred = np.squeeze(y_train_pred)\n",
    "  y_train = np.squeeze(y_train)\n",
    "\n",
    "  # Compute evaluation metrics on the unnormalized predictions\n",
    "  train_rmse_rul = np.sqrt(mean_squared_error(y_train, y_train_pred))\n",
    "  train_mae_rul = mean_absolute_error(y_train, y_train_pred)\n",
    "  train_mape_rul = mean_absolute_percentage_error(y_train, y_train_pred).numpy().item()\n",
    "\n",
    "  print(f\"Train RMSE for RUL: {train_rmse_rul.item()} prediction_time: {prediction_time} training_time: {training_time} MAPE for RUL: {train_mape_rul} MAE for RUL: {train_mae_rul}\")\n",
    "  trial.set_user_attr('training_time', training_time)\n",
    "  trial.set_user_attr('prediction_time', prediction_time)\n",
    "  trial.set_user_attr('train_mape_rul', train_mape_rul)\n",
    "  trial.set_user_attr('train_rmse_rul', train_rmse_rul.item())\n",
    "  trial.set_user_attr('train_mae_rul', train_mae_rul.item())\n",
    "\n",
    "  y_val_pred = model.predict(X_val_norm)\n",
    "  # Add the prediction time to the trial\n",
    "  # Unnormalize the predictions\n",
    "  #y_pred = y_scaler.inverse_transform(y_pred_norm).flatten()\n",
    "  y_val = y_val_norm\n",
    "  y_val_pred = np.squeeze(y_val_pred)\n",
    "  y_val = np.squeeze(y_val)\n",
    "\n",
    "  # Compute evaluation metrics on the unnormalized predictions\n",
    "  val_rmse_rul = np.sqrt(mean_squared_error(y_val, y_val_pred))\n",
    "  val_mae_rul = mean_absolute_error(y_val, y_val_pred)\n",
    "  val_mape_rul = mean_absolute_percentage_error(y_val, y_val_pred).numpy().item()\n",
    "\n",
    "  print(f\"Validation RMSE for RUL: {val_rmse_rul.item()} MAPE for RUL: {val_mape_rul} MAE for RUL: {val_mae_rul}\")\n",
    "  trial.set_user_attr('val_mape_rul', val_mape_rul)\n",
    "  trial.set_user_attr('val_rmse_rul', val_rmse_rul.item())\n",
    "  trial.set_user_attr('val_mae_rul', val_mae_rul.item())\n",
    "\n",
    "  y_test_pred = model.predict(X_test_norm)\n",
    "  # Add the prediction time to the trial\n",
    "  # Unnormalize the predictions\n",
    "  #y_pred = y_scaler.inverse_transform(y_pred_norm).flatten()\n",
    "  y_test = y_test_norm\n",
    "  y_test_pred = np.squeeze(y_test_pred)\n",
    "  y_test = np.squeeze(y_test)\n",
    "\n",
    "  # Compute evaluation metrics on the unnormalized predictions\n",
    "  test_rmse_rul = np.sqrt(mean_squared_error(y_test, y_test_pred))\n",
    "  test_mae_rul = mean_absolute_error(y_test, y_test_pred)\n",
    "  test_mape_rul = mean_absolute_percentage_error(y_test, y_test_pred).numpy().item()\n",
    "\n",
    "  print(f\"Test RMSE for RUL: {test_rmse_rul.item()} MAPE for RUL: {test_mape_rul} MAE for RUL: {test_mae_rul}\")\n",
    "  trial.set_user_attr('test_mape_rul', test_mape_rul)\n",
    "  trial.set_user_attr('test_rmse_rul', test_rmse_rul.item())\n",
    "  trial.set_user_attr('test_mae_rul', test_mae_rul.item())\n",
    "\n",
    "  # Save the history data for this trial as a separate CSV file\n",
    "  history_df = pd.DataFrame(history.history)\n",
    "  history_df.to_csv(history_path+test_name, index=False)\n",
    "\n",
    "  # Create a Pandas Excel writer using openpyxl as the engine\n",
    "  writer = pd.ExcelWriter(prediction_path + test_name + '.xlsx', engine='xlsxwriter')\n",
    "\n",
    "  # Create separate DataFrames for each dataset\n",
    "  train_data = pd.DataFrame({'y_train': y_train, 'y_train_pred': y_train_pred})\n",
    "  val_data = pd.DataFrame({'y_val': y_val, 'y_val_pred': y_val_pred})\n",
    "  test_data = pd.DataFrame({'y_test': y_test, 'y_test_pred': y_test_pred})\n",
    "\n",
    "  # Write each DataFrame to a different sheet in the Excel file\n",
    "  train_data.to_excel(writer, sheet_name='Train', index=False)\n",
    "  val_data.to_excel(writer, sheet_name='Validation', index=False)\n",
    "  test_data.to_excel(writer, sheet_name='Test', index=False)\n",
    "\n",
    "  # Save the Excel file\n",
    "  writer.save()\n",
    "  mape_score = (train_mape_rul + val_mape_rul + test_mape_rul) / 3\n",
    "  rmse_score = (train_rmse_rul + val_rmse_rul + test_rmse_rul) / 3\n",
    "  print(f\"rmse_score : {rmse_score} mape score : {mape_score}\")\n",
    "\n",
    "  return mape_score\n"
   ]
  },
  {
   "cell_type": "code",
   "execution_count": null,
   "id": "1vHM0yrEitLF",
   "metadata": {
    "id": "1vHM0yrEitLF"
   },
   "outputs": [],
   "source": [
    "def optimize_hyperparameters(n_trial, no_epoch, test_db, test_name, model_function, model_path, history_path, prediction_path, custom_objects):\n",
    "    study = optuna.create_study(storage=f'sqlite:///{test_db}', study_name=test_name, direction='minimize', load_if_exists=True)\n",
    "    study.optimize(lambda trial: objective(trial, no_epoch, test_name, model_function, model_path, history_path, prediction_path, custom_objects), n_trials=n_trial)\n",
    "    df = study.trials_dataframe(attrs=('number', 'value', 'params', 'state', 'user_attrs'))\n",
    "    df.rename(columns={'value': 'MAPE', 'user_attrs_prediction_time': 'Prediction Time (ms)', 'user_attrs_mape_rul': 'MAPE'}, inplace=True)\n",
    "\n",
    "    best_params = study.best_params\n",
    "    best_score = study.best_value\n",
    "    print(\"Best Hyperparameters:\", best_params)\n",
    "    print(\"Best score:\", best_score)\n",
    "    return df"
   ]
  },
  {
   "cell_type": "markdown",
   "id": "yKNNvIr_e1S4",
   "metadata": {
    "id": "yKNNvIr_e1S4"
   },
   "source": [
    "## Architecture dependency"
   ]
  },
  {
   "cell_type": "code",
   "execution_count": null,
   "id": "widnBu7jdI3A",
   "metadata": {
    "id": "widnBu7jdI3A"
   },
   "outputs": [],
   "source": [
    "def objective(trial, no_epoch, test_name, model_function, model_path, history_path, prediction_path, custom_objects):\n",
    "    # Define the hyperparameter search space\n",
    "    loss = trial.suggest_categorical('loss_function', ['mean_squared_error'])\n",
    "    batch_size = trial.suggest_categorical('batch_size', [1, 41])\n",
    "    learning_rate = trial.suggest_categorical('learning_rate', [0.001, 0.0001, 0.00001])\n",
    "    no_resblock = trial.suggest_categorical('layers', [3, 4, 5])\n",
    "    no_kernel_size = trial.suggest_categorical('kernel_size', [3, 5, 10])\n",
    "    strides_size = trial.suggest_categorical('strides_size', [1, 2])\n",
    "    pool_size = trial.suggest_categorical('pool_size', [1, 2])\n",
    "    no_filters = trial.suggest_categorical('filters', [128, 256])\n",
    "\n",
    "    K.clear_session()\n",
    "    input_shape = X_train.shape[1:]\n",
    "    model = model_function(input_shape, learning_rate, loss, no_resblock, no_filters, no_kernel_size, strides_size, pool_size)\n",
    "\n",
    "    mape_score = train_and_evaluate_model(model, no_epoch, X_train_norm, y_train_norm, X_val_norm, y_val_norm, X_test_norm, y_test_norm, batch_size, custom_objects, model_path, history_path, prediction_path, trial, test_name)\n",
    "\n",
    "    return mape_score"
   ]
  },
  {
   "cell_type": "code",
   "execution_count": null,
   "id": "BUWzKKWqgu97",
   "metadata": {
    "id": "BUWzKKWqgu97"
   },
   "outputs": [],
   "source": [
    "\"\"\"\n",
    "data_path = './data/'\n",
    "model_path = '.'\n",
    "history_path = '.'\n",
    "prediction_path = '.'\n",
    "log_path = './log/'\n",
    "\"\"\""
   ]
  },
  {
   "cell_type": "markdown",
   "id": "q_SOdmmFhzgz",
   "metadata": {
    "id": "q_SOdmmFhzgz"
   },
   "source": [
    "## model dependency"
   ]
  },
  {
   "cell_type": "code",
   "execution_count": null,
   "id": "OnssX_t_eWvm",
   "metadata": {
    "colab": {
     "base_uri": "https://localhost:8080/",
     "height": 618
    },
    "executionInfo": {
     "elapsed": 12933,
     "status": "ok",
     "timestamp": 1692345982372,
     "user": {
      "displayName": "rory lee",
      "userId": "07120846070559746515"
     },
     "user_tz": -480
    },
    "id": "OnssX_t_eWvm",
    "outputId": "92e29740-92b1-46b0-9fbb-edce41ed22e5"
   },
   "outputs": [
    {
     "name": "stderr",
     "output_type": "stream",
     "text": [
      "[I 2023-08-18 08:06:07,962] Using an existing study with name 'v2_1_resnet_new2_sum_11_10' instead of creating a new one.\n"
     ]
    },
    {
     "name": "stdout",
     "output_type": "stream",
     "text": [
      "2/2 [==============================] - 1s 14ms/step\n",
      "Train RMSE for RUL: 825.9952571660718 prediction_time: 587.7163410186768 training_time: 9.47830581665039 MAPE for RUL: 99.99362643630693 MAE for RUL: 722.6476329781751\n",
      "2/2 [==============================] - 0s 13ms/step\n",
      "Validation RMSE for RUL: 835.3746647485915 MAPE for RUL: 99.99391606652242 MAE for RUL: 737.824257956103\n",
      "2/2 [==============================] - 0s 12ms/step\n",
      "Test RMSE for RUL: 779.7776932233674 MAPE for RUL: 99.99321612199293 MAE for RUL: 703.0893833434209\n",
      "rmse_score : 813.7158717126769 mape score : 99.9935862082741\n"
     ]
    },
    {
     "name": "stderr",
     "output_type": "stream",
     "text": [
      "<ipython-input-78-b4bf8ac03b13>:97: FutureWarning: save is not part of the public API, usage can give unexpected results and will be removed in a future version\n",
      "  writer.save()\n",
      "[I 2023-08-18 08:06:21,006] Trial 8 finished with value: 99.9935862082741 and parameters: {'loss_function': 'mean_squared_error', 'batch_size': 41, 'learning_rate': 1e-05, 'layers': 5, 'kernel_size': 3, 'strides_size': 2, 'pool_size': 1, 'filters': 128}. Best is trial 8 with value: 99.9935862082741.\n"
     ]
    },
    {
     "name": "stdout",
     "output_type": "stream",
     "text": [
      "Best Hyperparameters: {'loss_function': 'mean_squared_error', 'batch_size': 41, 'learning_rate': 1e-05, 'layers': 5, 'kernel_size': 3, 'strides_size': 2, 'pool_size': 1, 'filters': 128}\n",
      "Best score: 99.9935862082741\n"
     ]
    },
    {
     "data": {
      "text/html": [
       "\n",
       "  <div id=\"df-42e09324-2ca0-4d10-ba1f-0b213866da5e\" class=\"colab-df-container\">\n",
       "    <div>\n",
       "<style scoped>\n",
       "    .dataframe tbody tr th:only-of-type {\n",
       "        vertical-align: middle;\n",
       "    }\n",
       "\n",
       "    .dataframe tbody tr th {\n",
       "        vertical-align: top;\n",
       "    }\n",
       "\n",
       "    .dataframe thead th {\n",
       "        text-align: right;\n",
       "    }\n",
       "</style>\n",
       "<table border=\"1\" class=\"dataframe\">\n",
       "  <thead>\n",
       "    <tr style=\"text-align: right;\">\n",
       "      <th></th>\n",
       "      <th>number</th>\n",
       "      <th>MAPE</th>\n",
       "      <th>params_batch_size</th>\n",
       "      <th>params_filters</th>\n",
       "      <th>params_kernel_size</th>\n",
       "      <th>params_layers</th>\n",
       "      <th>params_learning_rate</th>\n",
       "      <th>params_loss_function</th>\n",
       "      <th>params_pool_size</th>\n",
       "      <th>params_strides_size</th>\n",
       "      <th>...</th>\n",
       "      <th>user_attrs_test_mae_rul</th>\n",
       "      <th>user_attrs_test_mape_rul</th>\n",
       "      <th>user_attrs_test_rmse_rul</th>\n",
       "      <th>user_attrs_train_mae_rul</th>\n",
       "      <th>user_attrs_train_mape_rul</th>\n",
       "      <th>user_attrs_train_rmse_rul</th>\n",
       "      <th>user_attrs_training_time</th>\n",
       "      <th>user_attrs_val_mae_rul</th>\n",
       "      <th>user_attrs_val_mape_rul</th>\n",
       "      <th>user_attrs_val_rmse_rul</th>\n",
       "    </tr>\n",
       "  </thead>\n",
       "  <tbody>\n",
       "    <tr>\n",
       "      <th>0</th>\n",
       "      <td>0</td>\n",
       "      <td>NaN</td>\n",
       "      <td>NaN</td>\n",
       "      <td>NaN</td>\n",
       "      <td>NaN</td>\n",
       "      <td>NaN</td>\n",
       "      <td>NaN</td>\n",
       "      <td>NaN</td>\n",
       "      <td>NaN</td>\n",
       "      <td>NaN</td>\n",
       "      <td>...</td>\n",
       "      <td>NaN</td>\n",
       "      <td>NaN</td>\n",
       "      <td>NaN</td>\n",
       "      <td>NaN</td>\n",
       "      <td>NaN</td>\n",
       "      <td>NaN</td>\n",
       "      <td>NaN</td>\n",
       "      <td>NaN</td>\n",
       "      <td>NaN</td>\n",
       "      <td>NaN</td>\n",
       "    </tr>\n",
       "    <tr>\n",
       "      <th>1</th>\n",
       "      <td>1</td>\n",
       "      <td>NaN</td>\n",
       "      <td>NaN</td>\n",
       "      <td>NaN</td>\n",
       "      <td>NaN</td>\n",
       "      <td>NaN</td>\n",
       "      <td>NaN</td>\n",
       "      <td>NaN</td>\n",
       "      <td>NaN</td>\n",
       "      <td>NaN</td>\n",
       "      <td>...</td>\n",
       "      <td>NaN</td>\n",
       "      <td>NaN</td>\n",
       "      <td>NaN</td>\n",
       "      <td>NaN</td>\n",
       "      <td>NaN</td>\n",
       "      <td>NaN</td>\n",
       "      <td>NaN</td>\n",
       "      <td>NaN</td>\n",
       "      <td>NaN</td>\n",
       "      <td>NaN</td>\n",
       "    </tr>\n",
       "    <tr>\n",
       "      <th>2</th>\n",
       "      <td>2</td>\n",
       "      <td>NaN</td>\n",
       "      <td>1.0</td>\n",
       "      <td>256.0</td>\n",
       "      <td>5.0</td>\n",
       "      <td>5.0</td>\n",
       "      <td>0.00001</td>\n",
       "      <td>mean_squared_error</td>\n",
       "      <td>2.0</td>\n",
       "      <td>1.0</td>\n",
       "      <td>...</td>\n",
       "      <td>NaN</td>\n",
       "      <td>NaN</td>\n",
       "      <td>NaN</td>\n",
       "      <td>NaN</td>\n",
       "      <td>NaN</td>\n",
       "      <td>NaN</td>\n",
       "      <td>NaN</td>\n",
       "      <td>NaN</td>\n",
       "      <td>NaN</td>\n",
       "      <td>NaN</td>\n",
       "    </tr>\n",
       "    <tr>\n",
       "      <th>3</th>\n",
       "      <td>3</td>\n",
       "      <td>NaN</td>\n",
       "      <td>41.0</td>\n",
       "      <td>256.0</td>\n",
       "      <td>10.0</td>\n",
       "      <td>4.0</td>\n",
       "      <td>0.00010</td>\n",
       "      <td>mean_squared_error</td>\n",
       "      <td>1.0</td>\n",
       "      <td>2.0</td>\n",
       "      <td>...</td>\n",
       "      <td>686.697898</td>\n",
       "      <td>69.386366</td>\n",
       "      <td>757.949125</td>\n",
       "      <td>304.260481</td>\n",
       "      <td>42.489619</td>\n",
       "      <td>440.561266</td>\n",
       "      <td>190.095599</td>\n",
       "      <td>346.950600</td>\n",
       "      <td>50.149581</td>\n",
       "      <td>513.707450</td>\n",
       "    </tr>\n",
       "    <tr>\n",
       "      <th>4</th>\n",
       "      <td>4</td>\n",
       "      <td>NaN</td>\n",
       "      <td>1.0</td>\n",
       "      <td>128.0</td>\n",
       "      <td>10.0</td>\n",
       "      <td>3.0</td>\n",
       "      <td>0.00100</td>\n",
       "      <td>mean_squared_error</td>\n",
       "      <td>1.0</td>\n",
       "      <td>2.0</td>\n",
       "      <td>...</td>\n",
       "      <td>435.794540</td>\n",
       "      <td>51.477817</td>\n",
       "      <td>490.853950</td>\n",
       "      <td>764.884807</td>\n",
       "      <td>165.852687</td>\n",
       "      <td>789.289975</td>\n",
       "      <td>14.597647</td>\n",
       "      <td>763.523920</td>\n",
       "      <td>190.679602</td>\n",
       "      <td>787.980265</td>\n",
       "    </tr>\n",
       "    <tr>\n",
       "      <th>5</th>\n",
       "      <td>5</td>\n",
       "      <td>588.009865</td>\n",
       "      <td>41.0</td>\n",
       "      <td>256.0</td>\n",
       "      <td>10.0</td>\n",
       "      <td>3.0</td>\n",
       "      <td>0.00100</td>\n",
       "      <td>mean_squared_error</td>\n",
       "      <td>1.0</td>\n",
       "      <td>1.0</td>\n",
       "      <td>...</td>\n",
       "      <td>2650.254968</td>\n",
       "      <td>314.885495</td>\n",
       "      <td>2741.805841</td>\n",
       "      <td>3342.406655</td>\n",
       "      <td>688.721051</td>\n",
       "      <td>3357.043714</td>\n",
       "      <td>18.039024</td>\n",
       "      <td>3330.335915</td>\n",
       "      <td>760.423049</td>\n",
       "      <td>3350.234722</td>\n",
       "    </tr>\n",
       "    <tr>\n",
       "      <th>6</th>\n",
       "      <td>6</td>\n",
       "      <td>NaN</td>\n",
       "      <td>1.0</td>\n",
       "      <td>128.0</td>\n",
       "      <td>3.0</td>\n",
       "      <td>4.0</td>\n",
       "      <td>0.00010</td>\n",
       "      <td>mean_squared_error</td>\n",
       "      <td>2.0</td>\n",
       "      <td>2.0</td>\n",
       "      <td>...</td>\n",
       "      <td>NaN</td>\n",
       "      <td>NaN</td>\n",
       "      <td>NaN</td>\n",
       "      <td>NaN</td>\n",
       "      <td>NaN</td>\n",
       "      <td>NaN</td>\n",
       "      <td>NaN</td>\n",
       "      <td>NaN</td>\n",
       "      <td>NaN</td>\n",
       "      <td>NaN</td>\n",
       "    </tr>\n",
       "    <tr>\n",
       "      <th>7</th>\n",
       "      <td>7</td>\n",
       "      <td>NaN</td>\n",
       "      <td>41.0</td>\n",
       "      <td>256.0</td>\n",
       "      <td>5.0</td>\n",
       "      <td>5.0</td>\n",
       "      <td>0.00100</td>\n",
       "      <td>mean_squared_error</td>\n",
       "      <td>2.0</td>\n",
       "      <td>2.0</td>\n",
       "      <td>...</td>\n",
       "      <td>686.437616</td>\n",
       "      <td>96.706294</td>\n",
       "      <td>764.926675</td>\n",
       "      <td>706.146523</td>\n",
       "      <td>97.012542</td>\n",
       "      <td>811.831010</td>\n",
       "      <td>17.825535</td>\n",
       "      <td>720.992223</td>\n",
       "      <td>97.166367</td>\n",
       "      <td>820.765046</td>\n",
       "    </tr>\n",
       "    <tr>\n",
       "      <th>8</th>\n",
       "      <td>8</td>\n",
       "      <td>99.993586</td>\n",
       "      <td>41.0</td>\n",
       "      <td>128.0</td>\n",
       "      <td>3.0</td>\n",
       "      <td>5.0</td>\n",
       "      <td>0.00001</td>\n",
       "      <td>mean_squared_error</td>\n",
       "      <td>1.0</td>\n",
       "      <td>2.0</td>\n",
       "      <td>...</td>\n",
       "      <td>703.089383</td>\n",
       "      <td>99.993216</td>\n",
       "      <td>779.777693</td>\n",
       "      <td>722.647633</td>\n",
       "      <td>99.993626</td>\n",
       "      <td>825.995257</td>\n",
       "      <td>9.478306</td>\n",
       "      <td>737.824258</td>\n",
       "      <td>99.993916</td>\n",
       "      <td>835.374665</td>\n",
       "    </tr>\n",
       "  </tbody>\n",
       "</table>\n",
       "<p>9 rows × 22 columns</p>\n",
       "</div>\n",
       "    <div class=\"colab-df-buttons\">\n",
       "\n",
       "  <div class=\"colab-df-container\">\n",
       "    <button class=\"colab-df-convert\" onclick=\"convertToInteractive('df-42e09324-2ca0-4d10-ba1f-0b213866da5e')\"\n",
       "            title=\"Convert this dataframe to an interactive table.\"\n",
       "            style=\"display:none;\">\n",
       "\n",
       "  <svg xmlns=\"http://www.w3.org/2000/svg\" height=\"24px\" viewBox=\"0 -960 960 960\">\n",
       "    <path d=\"M120-120v-720h720v720H120Zm60-500h600v-160H180v160Zm220 220h160v-160H400v160Zm0 220h160v-160H400v160ZM180-400h160v-160H180v160Zm440 0h160v-160H620v160ZM180-180h160v-160H180v160Zm440 0h160v-160H620v160Z\"/>\n",
       "  </svg>\n",
       "    </button>\n",
       "\n",
       "  <style>\n",
       "    .colab-df-container {\n",
       "      display:flex;\n",
       "      gap: 12px;\n",
       "    }\n",
       "\n",
       "    .colab-df-convert {\n",
       "      background-color: #E8F0FE;\n",
       "      border: none;\n",
       "      border-radius: 50%;\n",
       "      cursor: pointer;\n",
       "      display: none;\n",
       "      fill: #1967D2;\n",
       "      height: 32px;\n",
       "      padding: 0 0 0 0;\n",
       "      width: 32px;\n",
       "    }\n",
       "\n",
       "    .colab-df-convert:hover {\n",
       "      background-color: #E2EBFA;\n",
       "      box-shadow: 0px 1px 2px rgba(60, 64, 67, 0.3), 0px 1px 3px 1px rgba(60, 64, 67, 0.15);\n",
       "      fill: #174EA6;\n",
       "    }\n",
       "\n",
       "    .colab-df-buttons div {\n",
       "      margin-bottom: 4px;\n",
       "    }\n",
       "\n",
       "    [theme=dark] .colab-df-convert {\n",
       "      background-color: #3B4455;\n",
       "      fill: #D2E3FC;\n",
       "    }\n",
       "\n",
       "    [theme=dark] .colab-df-convert:hover {\n",
       "      background-color: #434B5C;\n",
       "      box-shadow: 0px 1px 3px 1px rgba(0, 0, 0, 0.15);\n",
       "      filter: drop-shadow(0px 1px 2px rgba(0, 0, 0, 0.3));\n",
       "      fill: #FFFFFF;\n",
       "    }\n",
       "  </style>\n",
       "\n",
       "    <script>\n",
       "      const buttonEl =\n",
       "        document.querySelector('#df-42e09324-2ca0-4d10-ba1f-0b213866da5e button.colab-df-convert');\n",
       "      buttonEl.style.display =\n",
       "        google.colab.kernel.accessAllowed ? 'block' : 'none';\n",
       "\n",
       "      async function convertToInteractive(key) {\n",
       "        const element = document.querySelector('#df-42e09324-2ca0-4d10-ba1f-0b213866da5e');\n",
       "        const dataTable =\n",
       "          await google.colab.kernel.invokeFunction('convertToInteractive',\n",
       "                                                    [key], {});\n",
       "        if (!dataTable) return;\n",
       "\n",
       "        const docLinkHtml = 'Like what you see? Visit the ' +\n",
       "          '<a target=\"_blank\" href=https://colab.research.google.com/notebooks/data_table.ipynb>data table notebook</a>'\n",
       "          + ' to learn more about interactive tables.';\n",
       "        element.innerHTML = '';\n",
       "        dataTable['output_type'] = 'display_data';\n",
       "        await google.colab.output.renderOutput(dataTable, element);\n",
       "        const docLink = document.createElement('div');\n",
       "        docLink.innerHTML = docLinkHtml;\n",
       "        element.appendChild(docLink);\n",
       "      }\n",
       "    </script>\n",
       "  </div>\n",
       "\n",
       "\n",
       "<div id=\"df-e9cd1b31-1c8e-4cbb-98b9-253828eb2dcb\">\n",
       "  <button class=\"colab-df-quickchart\" onclick=\"quickchart('df-e9cd1b31-1c8e-4cbb-98b9-253828eb2dcb')\"\n",
       "            title=\"Suggest charts.\"\n",
       "            style=\"display:none;\">\n",
       "\n",
       "<svg xmlns=\"http://www.w3.org/2000/svg\" height=\"24px\"viewBox=\"0 0 24 24\"\n",
       "     width=\"24px\">\n",
       "    <g>\n",
       "        <path d=\"M19 3H5c-1.1 0-2 .9-2 2v14c0 1.1.9 2 2 2h14c1.1 0 2-.9 2-2V5c0-1.1-.9-2-2-2zM9 17H7v-7h2v7zm4 0h-2V7h2v10zm4 0h-2v-4h2v4z\"/>\n",
       "    </g>\n",
       "</svg>\n",
       "  </button>\n",
       "\n",
       "<style>\n",
       "  .colab-df-quickchart {\n",
       "    background-color: #E8F0FE;\n",
       "    border: none;\n",
       "    border-radius: 50%;\n",
       "    cursor: pointer;\n",
       "    display: none;\n",
       "    fill: #1967D2;\n",
       "    height: 32px;\n",
       "    padding: 0 0 0 0;\n",
       "    width: 32px;\n",
       "  }\n",
       "\n",
       "  .colab-df-quickchart:hover {\n",
       "    background-color: #E2EBFA;\n",
       "    box-shadow: 0px 1px 2px rgba(60, 64, 67, 0.3), 0px 1px 3px 1px rgba(60, 64, 67, 0.15);\n",
       "    fill: #174EA6;\n",
       "  }\n",
       "\n",
       "  [theme=dark] .colab-df-quickchart {\n",
       "    background-color: #3B4455;\n",
       "    fill: #D2E3FC;\n",
       "  }\n",
       "\n",
       "  [theme=dark] .colab-df-quickchart:hover {\n",
       "    background-color: #434B5C;\n",
       "    box-shadow: 0px 1px 3px 1px rgba(0, 0, 0, 0.15);\n",
       "    filter: drop-shadow(0px 1px 2px rgba(0, 0, 0, 0.3));\n",
       "    fill: #FFFFFF;\n",
       "  }\n",
       "</style>\n",
       "\n",
       "  <script>\n",
       "    async function quickchart(key) {\n",
       "      const charts = await google.colab.kernel.invokeFunction(\n",
       "          'suggestCharts', [key], {});\n",
       "    }\n",
       "    (() => {\n",
       "      let quickchartButtonEl =\n",
       "        document.querySelector('#df-e9cd1b31-1c8e-4cbb-98b9-253828eb2dcb button');\n",
       "      quickchartButtonEl.style.display =\n",
       "        google.colab.kernel.accessAllowed ? 'block' : 'none';\n",
       "    })();\n",
       "  </script>\n",
       "</div>\n",
       "    </div>\n",
       "  </div>\n"
      ],
      "text/plain": [
       "   number        MAPE  params_batch_size  params_filters  params_kernel_size  \\\n",
       "0       0         NaN                NaN             NaN                 NaN   \n",
       "1       1         NaN                NaN             NaN                 NaN   \n",
       "2       2         NaN                1.0           256.0                 5.0   \n",
       "3       3         NaN               41.0           256.0                10.0   \n",
       "4       4         NaN                1.0           128.0                10.0   \n",
       "5       5  588.009865               41.0           256.0                10.0   \n",
       "6       6         NaN                1.0           128.0                 3.0   \n",
       "7       7         NaN               41.0           256.0                 5.0   \n",
       "8       8   99.993586               41.0           128.0                 3.0   \n",
       "\n",
       "   params_layers  params_learning_rate params_loss_function  params_pool_size  \\\n",
       "0            NaN                   NaN                  NaN               NaN   \n",
       "1            NaN                   NaN                  NaN               NaN   \n",
       "2            5.0               0.00001   mean_squared_error               2.0   \n",
       "3            4.0               0.00010   mean_squared_error               1.0   \n",
       "4            3.0               0.00100   mean_squared_error               1.0   \n",
       "5            3.0               0.00100   mean_squared_error               1.0   \n",
       "6            4.0               0.00010   mean_squared_error               2.0   \n",
       "7            5.0               0.00100   mean_squared_error               2.0   \n",
       "8            5.0               0.00001   mean_squared_error               1.0   \n",
       "\n",
       "   params_strides_size  ... user_attrs_test_mae_rul  user_attrs_test_mape_rul  \\\n",
       "0                  NaN  ...                     NaN                       NaN   \n",
       "1                  NaN  ...                     NaN                       NaN   \n",
       "2                  1.0  ...                     NaN                       NaN   \n",
       "3                  2.0  ...              686.697898                 69.386366   \n",
       "4                  2.0  ...              435.794540                 51.477817   \n",
       "5                  1.0  ...             2650.254968                314.885495   \n",
       "6                  2.0  ...                     NaN                       NaN   \n",
       "7                  2.0  ...              686.437616                 96.706294   \n",
       "8                  2.0  ...              703.089383                 99.993216   \n",
       "\n",
       "   user_attrs_test_rmse_rul  user_attrs_train_mae_rul  \\\n",
       "0                       NaN                       NaN   \n",
       "1                       NaN                       NaN   \n",
       "2                       NaN                       NaN   \n",
       "3                757.949125                304.260481   \n",
       "4                490.853950                764.884807   \n",
       "5               2741.805841               3342.406655   \n",
       "6                       NaN                       NaN   \n",
       "7                764.926675                706.146523   \n",
       "8                779.777693                722.647633   \n",
       "\n",
       "   user_attrs_train_mape_rul  user_attrs_train_rmse_rul  \\\n",
       "0                        NaN                        NaN   \n",
       "1                        NaN                        NaN   \n",
       "2                        NaN                        NaN   \n",
       "3                  42.489619                 440.561266   \n",
       "4                 165.852687                 789.289975   \n",
       "5                 688.721051                3357.043714   \n",
       "6                        NaN                        NaN   \n",
       "7                  97.012542                 811.831010   \n",
       "8                  99.993626                 825.995257   \n",
       "\n",
       "   user_attrs_training_time  user_attrs_val_mae_rul  user_attrs_val_mape_rul  \\\n",
       "0                       NaN                     NaN                      NaN   \n",
       "1                       NaN                     NaN                      NaN   \n",
       "2                       NaN                     NaN                      NaN   \n",
       "3                190.095599              346.950600                50.149581   \n",
       "4                 14.597647              763.523920               190.679602   \n",
       "5                 18.039024             3330.335915               760.423049   \n",
       "6                       NaN                     NaN                      NaN   \n",
       "7                 17.825535              720.992223                97.166367   \n",
       "8                  9.478306              737.824258                99.993916   \n",
       "\n",
       "   user_attrs_val_rmse_rul  \n",
       "0                      NaN  \n",
       "1                      NaN  \n",
       "2                      NaN  \n",
       "3               513.707450  \n",
       "4               787.980265  \n",
       "5              3350.234722  \n",
       "6                      NaN  \n",
       "7               820.765046  \n",
       "8               835.374665  \n",
       "\n",
       "[9 rows x 22 columns]"
      ]
     },
     "execution_count": 86,
     "metadata": {},
     "output_type": "execute_result"
    }
   ],
   "source": [
    "test_db = 'resnet.db'\n",
    "test_name = \"v2_1_resnet_new2_sum_11_10\"\n",
    "no_epoch = 1\n",
    "n_trial = 1\n",
    "custom_objects = {\"root_mean_squared_error\": root_mean_squared_error}\n",
    "\n",
    "optimize_hyperparameters(\n",
    "    n_trial = n_trial,\n",
    "    no_epoch = no_epoch,\n",
    "    test_db = test_db,\n",
    "    test_name = test_name,\n",
    "    model_function=v2_gen_resnet_model,\n",
    "    model_path=model_path,\n",
    "    history_path=history_path,\n",
    "    prediction_path=prediction_path,\n",
    "    custom_objects=custom_objects\n",
    ")\n"
   ]
  },
  {
   "cell_type": "code",
   "execution_count": null,
   "id": "088b447f-5830-49e3-bc2c-6324b3ddd6f0",
   "metadata": {
    "id": "088b447f-5830-49e3-bc2c-6324b3ddd6f0"
   },
   "outputs": [],
   "source": [
    "df.to_csv(log_path+test_name, index=False)"
   ]
  }
 ],
 "metadata": {
  "colab": {
   "machine_shape": "hm",
   "provenance": []
  },
  "kernelspec": {
   "display_name": "Python 3 (ipykernel)",
   "language": "python",
   "name": "python3"
  },
  "language_info": {
   "codemirror_mode": {
    "name": "ipython",
    "version": 3
   },
   "file_extension": ".py",
   "mimetype": "text/x-python",
   "name": "python",
   "nbconvert_exporter": "python",
   "pygments_lexer": "ipython3",
   "version": "3.9.13"
  }
 },
 "nbformat": 4,
 "nbformat_minor": 5
}
